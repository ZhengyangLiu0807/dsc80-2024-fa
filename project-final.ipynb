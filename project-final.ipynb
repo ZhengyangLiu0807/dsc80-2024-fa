{
 "cells": [
  {
   "cell_type": "code",
   "execution_count": 1,
   "metadata": {},
   "outputs": [
    {
     "data": {
      "text/plain": [
       "'C:\\\\Users\\\\Administrator'"
      ]
     },
     "execution_count": 1,
     "metadata": {},
     "output_type": "execute_result"
    }
   ],
   "source": [
    "import os\n",
    "os.path.abspath('.')"
   ]
  },
  {
   "cell_type": "code",
   "execution_count": 2,
   "metadata": {
    "collapsed": true
   },
   "outputs": [],
   "source": [
    "import pandas as pd\n",
    "import numpy as np\n",
    "import plotly.graph_objects as go\n",
    "\n",
    "# 数据加载 upload data\n",
    "recipes = pd.read_csv(\"RAW_recipes.csv\")\n",
    "interactions = pd.read_csv(\"RAW_interactions.csv\")"
   ]
  },
  {
   "cell_type": "code",
   "execution_count": 3,
   "metadata": {},
   "outputs": [
    {
     "name": "stdout",
     "output_type": "stream",
     "text": [
      "Recipes columns: Index(['name', 'id', 'minutes', 'contributor_id', 'submitted', 'tags',\n",
      "       'nutrition', 'n_steps', 'steps', 'description', 'ingredients',\n",
      "       'n_ingredients'],\n",
      "      dtype='object')\n",
      "Interactions columns: Index(['user_id', 'recipe_id', 'date', 'rating', 'review'], dtype='object')\n",
      "Observed mean difference：-22.471174288573977\n"
     ]
    }
   ],
   "source": [
    "# 验证假设检验 Hypothesis testing\n",
    "# 检查列名 check columns' names\n",
    "print(\"Recipes columns:\", recipes.columns)\n",
    "print(\"Interactions columns:\", interactions.columns)\n",
    "\n",
    "# 确保关键列存在 make sure the key columns exist\n",
    "if \"minutes\" in recipes.columns and \"id\" in recipes.columns and \"rating\" in interactions.columns and \"recipe_id\" in interactions.columns:\n",
    "    # 合并两个数据框 merge two charts\n",
    "    merged_data = recipes.merge(interactions, left_on=\"id\", right_on=\"recipe_id\", how=\"inner\")\n",
    "    \n",
    "    # 删除缺失值 delete NMAR values\n",
    "    merged_data_cleaned = merged_data.dropna(subset=[\"rating\", \"minutes\"])\n",
    "    \n",
    "    # 创建分组 create two groups of high and low scores\n",
    "    high_rating = merged_data_cleaned[merged_data_cleaned[\"rating\"] >= 4][\"minutes\"]\n",
    "    low_rating = merged_data_cleaned[merged_data_cleaned[\"rating\"] < 4][\"minutes\"]\n",
    "\n",
    "    # 计算观察到的均值差异 calculate the observed mean difference\n",
    "    observed_diff = high_rating.mean() - low_rating.mean()\n",
    "    print(f\"Observed mean difference：{observed_diff}\")\n",
    "else:\n",
    "    #raise KeyError(\"数据框中缺少必要的列，请检查数据加载和列名。\")\n",
    "    raise KeyError(\"The necessary columns are missing in the data box. Please check the data loading and column names\")\n"
   ]
  },
  {
   "cell_type": "code",
   "execution_count": 6,
   "metadata": {},
   "outputs": [
    {
     "name": "stdout",
     "output_type": "stream",
     "text": [
      "Observed mean difference：-22.47\n",
      "Permutation test p-value：0.2050\n"
     ]
    }
   ],
   "source": [
    "# 验证假设检验 Hypothesis testing\n",
    "# 置换检验：生成随机的高评分和低评分分组，并多次计算这些组之间的均值差。\n",
    "# Permutation test: Generate random high and low scoring groups and calculate the mean difference between these groups multiple times.\n",
    "import numpy as np\n",
    "import matplotlib.pyplot as plt\n",
    "\n",
    "# 设置置换检验参数 Set displacement inspection parameters\n",
    "n_permutations = 1000  # 置换次数 Replacement times\n",
    "diffs = []  # 存储置换分布中的均值差 Mean difference in storage permutation distribution\n",
    "\n",
    "# 将所有的 \"minutes\" 值和评分条件一起打乱 Disrupt all 'minutes' values and rating criteria together\n",
    "all_minutes = merged_data_cleaned[\"minutes\"].values\n",
    "all_ratings = merged_data_cleaned[\"rating\"].values\n",
    "\n",
    "# 置换过程 Replacement process\n",
    "for _ in range(n_permutations):\n",
    "    # 随机打乱评分标签 Randomly shuffle rating tags\n",
    "    shuffled_ratings = np.random.permutation(all_ratings)\n",
    "    \n",
    "    # 高评分和低评分分组 High score and low score groups\n",
    "    high_group = all_minutes[shuffled_ratings >= 4]\n",
    "    low_group = all_minutes[shuffled_ratings < 4]\n",
    "    \n",
    "    # 计算均值差 Calculate the mean difference\n",
    "    diff = high_group.mean() - low_group.mean()\n",
    "    diffs.append(diff)\n",
    "\n",
    "# 计算 p 值（单尾检验） Calculate p-value (single tailed test)\n",
    "diffs = np.array(diffs)\n",
    "p_value = np.mean(diffs <= observed_diff)\n",
    "#print(diffs)\n",
    "\n",
    "# 显示结果 print results\n",
    "print(f\"Observed mean difference：{observed_diff:.2f}\")\n",
    "print(f\"Permutation test p-value：{p_value:.4f}\")\n"
   ]
  },
  {
   "cell_type": "markdown",
   "metadata": {},
   "source": [
    "以上部分是验证Rating的不同分组和minutes之间关系是否相当的假设检验  \n",
    "The above section is hypothesis testing to verify whether the relationship between different groups of Rating and minutes is equivalent\n",
    "There are two hypotheses：\n",
    "- Null Hypothesis (H0): There is no significant difference in the mean ratings between recipes with short and long cooking times.\n",
    "- Alternative Hypothesis (H1): There is a significant difference in the mean ratings of recipes with short and long cooking times.\n",
    "We can see from the result 'Observed mean difference：-22.47' obviously that H1 is more acceptable, but the result 'Permutation test p-value：0.2050' shows that the null hypothesis cannot be rejected because the p-value is greater than the commonly used significance level (α = 0.05). "
   ]
  },
  {
   "cell_type": "code",
   "execution_count": 20,
   "metadata": {
    "scrolled": true
   },
   "outputs": [],
   "source": [
    "# 显示设置 Display Settings\n",
    "from matplotlib import font_manager\n",
    "import matplotlib.pyplot as plt\n",
    "\n",
    "# 列出所有字体 list all fonts\n",
    "#for font in font_manager.findSystemFonts(fontpaths=None, fontext='ttf'):\n",
    "    #print(font)\n",
    "#rcParams['font.sans-serif'] = ['STHeiti Light']  # 使用微软雅黑 Using Microsoft Yahei\n",
    "plt.rcParams['font.sans-serif'] = 'simhei' # 使用黑体 Using SimHei\n",
    "\n"
   ]
  },
  {
   "cell_type": "code",
   "execution_count": 7,
   "metadata": {
    "scrolled": false
   },
   "outputs": [
    {
     "name": "stdout",
     "output_type": "stream",
     "text": [
      "['sans-serif']\n",
      "List of available font paths:\n",
      "c:\\windows\\fonts\\schlbki.ttf\n",
      "c:\\program files (x86)\\nuance\\pdfcreate\\bin\\resource\\fonts\\zdingbats.ttf\n",
      "c:\\windows\\fonts\\kunstler.ttf\n",
      "c:\\windows\\fonts\\swiss.ttf\n",
      "C:\\Windows\\Fonts\\BASKVILL.TTF\n",
      "C:\\Windows\\Fonts\\ERASBD.TTF\n",
      "C:\\Windows\\Fonts\\swissel.ttf\n",
      "c:\\windows\\fonts\\eraslght.ttf\n",
      "C:\\Windows\\Fonts\\georgiab.ttf\n",
      "C:\\Windows\\Fonts\\TCCM____.TTF\n"
     ]
    }
   ],
   "source": [
    "# 显示设置 Display Settings\n",
    "import matplotlib.pyplot as plt\n",
    "print(plt.rcParams['font.family'])  # 查看当前默认的字体 View the current default font\n",
    "from matplotlib import rcParams\n",
    "\n",
    "import matplotlib.font_manager as fm\n",
    "\n",
    "# 列出所有可用字体 List all available fonts\n",
    "font_list = fm.findSystemFonts(fontpaths=None, fontext='ttf')\n",
    "# print(\"可用字体路径列表：\")\n",
    "print(\"List of available font paths:\")\n",
    "for font_path in font_list[:10]:  # 只打印前 10 个字体路径 Only print the first 10 font paths\n",
    "    print(font_path)\n",
    "\n"
   ]
  },
  {
   "cell_type": "code",
   "execution_count": 7,
   "metadata": {
    "collapsed": true
   },
   "outputs": [],
   "source": [
    "# 显示设置 Display Settings\n",
    "from matplotlib import pyplot as plt\n",
    "from matplotlib.font_manager import FontProperties\n",
    "\n",
    "# 指定字体路径 Specify font path\n",
    "#font_path = \"/System/Library/Fonts/STHeiti Light.ttc\"  \n",
    "font_path = \"C:\\Windows\\Fonts\\simhei.ttf\" \n",
    "custom_font = FontProperties(fname=font_path)\n",
    "\n"
   ]
  },
  {
   "cell_type": "code",
   "execution_count": 22,
   "metadata": {
    "scrolled": true
   },
   "outputs": [
    {
     "data": {
      "image/png": "[encoded data removed]",
      "text/plain": [
       "<matplotlib.figure.Figure at 0x23129c6ccf8>"
      ]
     },
     "metadata": {},
     "output_type": "display_data"
    }
   ],
   "source": [
    "# 显示设置 Display Settings\n",
    "# 假设数据 assumed data\n",
    "np.random.seed(42)  # 为了可重复性 For repeatability\n",
    "diffs = np.random.normal(0, 1, 1000)  # 生成置换检验的均值差分布 Generate mean difference distribution for permutation test\n",
    "observed_diff = 1.5  # 观察到的均值差 Observed mean difference\n",
    "\n",
    "# 绘制分布图 Draw a distribution map\n",
    "plt.rc('font', family='Times New Roman', size=12)\n",
    "plt.hist(diffs, bins=30, alpha=0.7, color=\"skyblue\", edgecolor=\"black\", label=\"Permuted mean difference distribution\")\n",
    "plt.axvline(observed_diff, color=\"red\", linestyle=\"dashed\", linewidth=2, label=\"Observed mean difference\")\n",
    "plt.title(\"Permutation Test: Distribution of Mean Differences in Preparation Time for High and Low Scores\")\n",
    "plt.xlabel(\"mean difference\")\n",
    "plt.ylabel(\"Frequency\")\n",
    "plt.legend()\n",
    "plt.show()\n",
    "\n"
   ]
  },
  {
   "cell_type": "markdown",
   "metadata": {
    "collapsed": true
   },
   "source": [
    "以上部分是对假设检验进行可视化的显示设置，其中还展示了多段跟字体相关的程序 \n",
    "The above section presents the visualization settings for hypothesis testing, including multiple programs related to fonts\n",
    "\n",
    "illustrations：\n",
    "直方图：显示置换检验过程中生成的随机均值差分布。\n",
    "Histogram: Display the random mean difference distribution generated during the permutation test process.\n",
    "红色虚线：标记实际观察到的均值差，方便比较。\n",
    "Red dashed line: Mark the actual observed mean difference for easy comparison.\n",
    "图表呈现一个直方图，其中红色虚线直观展示观察到的均值差是否显著偏离置换分布中心。\n",
    "The chart presents a histogram, where the red dashed line visually illustrates whether the observed mean difference deviates significantly from the center of the permutation distribution.\n"
   ]
  },
  {
   "cell_type": "code",
   "execution_count": 11,
   "metadata": {
    "scrolled": true
   },
   "outputs": [
    {
     "name": "stdout",
     "output_type": "stream",
     "text": [
      "Mean Squared Error (MSE): 983080.8175103457\n"
     ]
    },
    {
     "data": {
      "image/png": "[encoded data removed]",
      "text/plain": [
       "<matplotlib.figure.Figure at 0x29f1ead56a0>"
      ]
     },
     "metadata": {},
     "output_type": "display_data"
    }
   ],
   "source": [
    "#预测准备菜谱所需的分钟数,基于基线模型\n",
    "#Predicting the number of minutes required to prepare a recipe based on a baseline model\n",
    "import pandas as pd\n",
    "import numpy as np\n",
    "from sklearn.model_selection import train_test_split\n",
    "from sklearn.preprocessing import StandardScaler\n",
    "from sklearn.linear_model import LinearRegression\n",
    "from sklearn.pipeline import Pipeline\n",
    "from sklearn.metrics import mean_squared_error\n",
    "import matplotlib.pyplot as plt\n",
    "\n",
    "# 数据加载  upload data\n",
    "recipes = pd.read_csv(\"RAW_recipes.csv\")\n",
    "interactions = pd.read_csv(\"RAW_interactions.csv\")\n",
    "\n",
    "\n",
    "# 确保关键列存在 make sure the key columns exist\n",
    "if \"minutes\" in recipes.columns and \"id\" in recipes.columns and \"rating\" in interactions.columns and \"recipe_id\" in interactions.columns:\n",
    "    # 合并两个数据框 merge two charts\n",
    "    merged_data = recipes.merge(interactions, left_on=\"id\", right_on=\"recipe_id\", how=\"inner\")\n",
    "    \n",
    "    # 删除缺失值 delete NMAR values\n",
    "    merged_data_cleaned = merged_data.dropna(subset=[\"rating\", \"minutes\", \"n_ingredients\"])\n",
    "\n",
    "    # 特征选择（将 cuisine 替换为 n_ingredients） Feature selection (replace cuisine with n_ingredients)\n",
    "    X = merged_data_cleaned[[\"n_ingredients\", \"rating\"]]  # 选择 \"n_ingredients\" 和 \"rating\" 作为特征 Select \"n_ingredients\" and \"rating\" as features\n",
    "    y = merged_data_cleaned[\"minutes\"]  # 目标变量是准备时间 \"minutes\"The target variable is the preparation time 'minutes'\n",
    "\n",
    "    # 数据拆分 Data splitting\n",
    "    X_train, X_test, y_train, y_test = train_test_split(X, y, test_size=0.2, random_state=42)\n",
    "\n",
    "    # 构建Pipeline（包括数据标准化和线性回归模型）Building a Pipeline (including data standardization and linear regression models)\n",
    "    pipeline = Pipeline([\n",
    "        (\"scaler\", StandardScaler()),  # 数据标准化 data standardization \n",
    "        (\"regressor\", LinearRegression())  # 使用线性回归模型 linear regression \n",
    "    ])\n",
    "\n",
    "    # 模型训练 model training\n",
    "    pipeline.fit(X_train, y_train)\n",
    "\n",
    "    # 预测 prediction\n",
    "    y_pred = pipeline.predict(X_test)\n",
    "\n",
    "    # 计算并输出均方误差（MSE） Calculate and output mean square error (MSE)\n",
    "    mse = mean_squared_error(y_test, y_pred)\n",
    "    print(f\"Mean Squared Error (MSE): {mse}\")\n",
    "\n",
    "    # 可视化预测效果 Visual prediction effect\n",
    "    plt.scatter(y_test, y_pred, alpha=0.5)\n",
    "    plt.plot([y_test.min(), y_test.max()], [y_test.min(), y_test.max()], \"r--\")\n",
    "    plt.xlabel(\"Actual Minutes\")\n",
    "    plt.ylabel(\"Predicted Minutes\")\n",
    "    plt.title(\"Actual vs Predicted Cooking Minutes\")\n",
    "    plt.show()\n",
    "else:\n",
    "    raise KeyError(\"The necessary columns are missing in the data box. Please check the data loading and column names\")\n"
   ]
  },
  {
   "cell_type": "code",
   "execution_count": 13,
   "metadata": {},
   "outputs": [
    {
     "name": "stdout",
     "output_type": "stream",
     "text": [
      "234428\n",
      "232667\n",
      "Mean Squared Error (MSE): 5136.144055808552\n"
     ]
    },
    {
     "data": {
      "image/png": "[encoded data removed]",
      "text/plain": [
       "<matplotlib.figure.Figure at 0x23123505160>"
      ]
     },
     "metadata": {},
     "output_type": "display_data"
    }
   ],
   "source": [
    "#预测准备菜谱所需的分钟数,基于最终模型：\n",
    "#更新点1.增加2个特征,2.数据集中去掉极小部分异常数值（保留0.992）,3.更换回归模型或者模型参数，4。train_test_split中参数改为0.1\n",
    "#Predict the number of minutes required to prepare a recipe based on the final model:\n",
    "#Update points: 1. Add 2 features, \n",
    "#2. Remove a very small number of outliers from the dataset (retain 0.992), \n",
    "#3. Replace the regression model or model parameters, \n",
    "#4. Change the parameter in train_test_stplit to 0.1\n",
    "import pandas as pd\n",
    "import numpy as np\n",
    "from sklearn.model_selection import train_test_split\n",
    "from sklearn.preprocessing import StandardScaler\n",
    "from sklearn.linear_model import LinearRegression\n",
    "from sklearn.pipeline import Pipeline\n",
    "from sklearn.metrics import mean_squared_error\n",
    "from sklearn.preprocessing import RobustScaler\n",
    "from sklearn.linear_model import Ridge\n",
    "from sklearn.tree import DecisionTreeRegressor\n",
    "from sklearn.feature_selection import SelectKBest, f_regression\n",
    "from sklearn.feature_selection import VarianceThreshold\n",
    "from sklearn.preprocessing import PolynomialFeatures\n",
    "from sklearn.svm import SVR\n",
    "import matplotlib.pyplot as plt\n",
    "\n",
    "# 数据加载\n",
    "recipes = pd.read_csv(\"RAW_recipes.csv\")\n",
    "interactions = pd.read_csv(\"RAW_interactions.csv\")\n",
    "\n",
    "# 确保关键列存在 make sure the key columns exist\n",
    "if \"minutes\" in recipes.columns and \"id\" in recipes.columns and \"rating\" in interactions.columns and \"recipe_id\" in interactions.columns:\n",
    "    # 合并两个数据框  merge two charts\n",
    "    merged_data = recipes.merge(interactions, left_on=\"id\", right_on=\"recipe_id\", how=\"inner\")\n",
    "    \n",
    "    # 删除缺失值 delete NMAR values\n",
    "    merged_data_cleaned = merged_data.dropna(subset=[\"rating\", \"minutes\", \"n_ingredients\",\"n_steps\", \"steps\"])\n",
    "    \n",
    "    # 获得步骤字符数特征 Obtain the character nums for steps as feature\n",
    "    merged_data_cleaned[\"step_length\"]=merged_data_cleaned[\"steps\"].apply(len)\n",
    "    print(len(merged_data_cleaned))\n",
    "    \n",
    "    # 去掉时长过于异常的数组 Remove arrays with excessively long duration exceptions\n",
    "    merged_data_cleaned = merged_data_cleaned[(merged_data_cleaned['minutes'] <= 1000)]\n",
    "    print(len(merged_data_cleaned))\n",
    "\n",
    "    # 特征选择 feature selection\n",
    "    X = merged_data_cleaned[[\"n_ingredients\", \"rating\",\"n_steps\",\"step_length\"]]  # Select \"n_ingredients\" ，\"rating\" ,\"n_steps\" and\"step_length\"as features\n",
    "    y = merged_data_cleaned[\"minutes\"]  # 目标变量是准备时间 \"minutes\"  The target variable is the preparation time 'minutes'\n",
    "\n",
    "    \n",
    "    # 数据拆分 Data splitting\n",
    "    X_train, X_test, y_train, y_test = train_test_split(X, y, test_size=0.1, random_state=42)\n",
    "\n",
    "    \n",
    "    # 构建Pipeline Building a Pipeline\n",
    "    pipeline = Pipeline([\n",
    "        #(\"poly\", PolynomialFeatures(degree = 2)),\n",
    "        (\"scaler\", StandardScaler()),  # 数据标准化 Data standardization\n",
    "        #(\"scaler\",RobustScaler()),  # 数据鲁棒化 Data robustness\n",
    "        #(\"feature_selection\", SelectKBest(f_regression, k = 1)), #Select the k highest scoring features\n",
    "        #(\"feature_selection\", VarianceThreshold(threshold = 0.01)),#Delete features with variance below a certain threshold\n",
    "        #(\"regressor\", LinearRegression())  # 使用线性回归模型  Using a linear regression model    \n",
    "        #(\"regressor\", Ridge(alpha = 0.5))  # 使用岭回归模型  Using Ridge Regression Model   \n",
    "        (\"regressor\", DecisionTreeRegressor()) # 使用决策树回归模型 Using Decision Tree Regression Model\n",
    "        #(\"regressor\", SVR()) # 使用支持向量机判断 Using Support Vector Machines for Judgment\n",
    "    ])\n",
    "\n",
    "    # 模型训练\n",
    "    pipeline.fit(X_train, y_train)\n",
    "\n",
    "    # 预测\n",
    "    y_pred = pipeline.predict(X_test)\n",
    "\n",
    "    # 计算并输出均方误差（MSE）\n",
    "    mse = mean_squared_error(y_test, y_pred)\n",
    "    print(f\"Mean Squared Error (MSE): {mse}\")\n",
    "\n",
    "    # 可视化预测效果\n",
    "    plt.scatter(y_test, y_pred, alpha=0.5)\n",
    "    plt.plot([y_test.min(), y_test.max()], [y_test.min(), y_test.max()], \"r--\")\n",
    "    plt.xlabel(\"Actual Minutes\")\n",
    "    plt.ylabel(\"Predicted Minutes\")\n",
    "    plt.title(\"Actual vs Predicted Cooking Minutes\")\n",
    "    plt.show()\n",
    "else:\n",
    "    raise KeyError(\"The necessary columns are missing in the data box. Please check the data loading and column names\")"
   ]
  },
  {
   "cell_type": "markdown",
   "metadata": {
    "collapsed": true
   },
   "source": [
    "The previous section consists of the baseline model and the final model, where two features and linear regression are used in the baseline model; Compared with the baseline model, the final model used four features that removed outliers and a decision tree model, and adjusted the num of the parameter test_size in the train_test_stlit function.\n",
    "\n",
    "We conducted multiple comparative experiments in the following order, including\n",
    "\n",
    "1) Adjusting the number of features shows that four features perform better than three, and three features perform better than two;\n",
    "\n",
    "2) Adjusting the size of the parameters test_size and random_date in the train_test_stplit function, the results showed that when test_size was 0.1, the effect was better than when it was 0.05 and 0.15, and when random_state was 42, the effect was better than when it was 35 and 50\n",
    "\n",
    "3) Because it was observed that most of the minites values were less than 200, and the vast majority were less than 1000(about 99.2%), abnormal arrays with minites above 1000 were removed, greatly improving the effect\n",
    "\n",
    "4) Multiple other functions for data preprocessing were tested, such as a)data robustness、b)select k best features、c)set variance threshold, in this experiment, the experimental of a) and c) results were consistent with data standardization, but the b) results would deteriorate if used\n",
    "\n",
    "5) Multiple other regression functions were tested, such as i)polynomial regression model、ii)ridge regression model and iii)decision tree regression model.In this experiment, the experimental ii)results were consistent with linear regression. When using  i), the results were slightly improved, while when using iii)，the effect was significantly improved.\n",
    "\n",
    "As we know,If the model performs well, points will cluster around the diagonal and the mse will be smaller. We can compare the two figures and the two results of mses that the final model is better.\n"
   ]
  },
  {
   "cell_type": "code",
   "execution_count": 21,
   "metadata": {
    "scrolled": true
   },
   "outputs": [
    {
     "name": "stdout",
     "output_type": "stream",
     "text": [
      "Observed mean difference：-12.116726081060833\n"
     ]
    }
   ],
   "source": [
    "# 公平性分析 Fairness analysis\n",
    "import pandas as pd\n",
    "import numpy as np\n",
    "import plotly.graph_objects as go\n",
    "\n",
    "high_rating = merged_data_cleaned[merged_data_cleaned[\"rating\"] >= 4]\n",
    "low_rating = merged_data_cleaned[merged_data_cleaned[\"rating\"] < 4]\n",
    "\n",
    "X_fair_high = high_rating[[\"n_ingredients\", \"rating\",\"n_steps\",\"step_length\"]]  # 选择 \"n_ingredients\" 和 \"rating\" 作为特征\n",
    "y_fair_high = high_rating[\"minutes\"]\n",
    "\n",
    "X_fairh_train, X_fairh_test, y_fairh_train, y_fairh_test = train_test_split(X_fair_high, y_fair_high, test_size=0.1, random_state=42)\n",
    "\n",
    "y_fairh_pred = pipeline.predict(X_fairh_test)\n",
    "\n",
    "X_fair_low = low_rating[[\"n_ingredients\", \"rating\",\"n_steps\",\"step_length\"]]  # 选择 \"n_ingredients\" 和 \"rating\" 作为特征\n",
    "y_fair_low = low_rating[\"minutes\"]\n",
    "\n",
    "X_fairl_train, X_fairl_test, y_fairl_train, y_fairl_test = train_test_split(X_fair_low, y_fair_low, test_size=0.1, random_state=42)\n",
    "\n",
    "y_fairl_pred = pipeline.predict(X_fairl_test)\n",
    "\n",
    "observed_diff = y_fairh_pred.mean() - y_fairl_pred.mean()\n",
    "print(f\"Observed mean difference：{observed_diff}\")"
   ]
  },
  {
   "cell_type": "code",
   "execution_count": 22,
   "metadata": {},
   "outputs": [
    {
     "name": "stdout",
     "output_type": "stream",
     "text": [
      "Observed mean difference：-12.12\n",
      "Permutation test p-value：0.0000\n"
     ]
    }
   ],
   "source": [
    "# 公平性分析 Fairness analysis\n",
    "# 置换检验 Permutation test\n",
    "import numpy as np\n",
    "import matplotlib.pyplot as plt\n",
    "\n",
    "n_permutations = 1000  \n",
    "diffs = []  \n",
    "\n",
    "all_minutes = merged_data_cleaned[\"minutes\"].values\n",
    "all_ratings = merged_data_cleaned[\"rating\"].values\n",
    "\n",
    "for _ in range(n_permutations):\n",
    "    shuffled_ratings = np.random.permutation(all_ratings)\n",
    "    \n",
    "    high_group = all_minutes[shuffled_ratings >= 4]\n",
    "    low_group = all_minutes[shuffled_ratings < 4]\n",
    "    \n",
    "    diff = high_group.mean() - low_group.mean()\n",
    "    diffs.append(diff)\n",
    "\n",
    "# 计算 p 值（单尾检验） Calculate p-value (single tailed test)\n",
    "diffs = np.array(diffs)\n",
    "p_value = np.mean(diffs <= observed_diff)\n",
    "\n",
    "print(f\"Observed mean difference：{observed_diff:.2f}\")\n",
    "print(f\"Permutation test p-value：{p_value:.4f}\")\n"
   ]
  },
  {
   "cell_type": "markdown",
   "metadata": {
    "collapsed": true
   },
   "source": [
    "以上部分是Rating的不同分组和本模型预测结果中的minutes之间的关系是否相对公平\n",
    "结果显示明显并不公平，低分组和高分组的结果差距较大，且P值也证明了这个结论\n",
    "The above section is about whether the relationship between the different groups of Rating and the minutes in the prediction results of this model is relatively fair\n",
    "The results show obvious unfairness, with a significant difference in the results between the low and high groups, and the P-value also confirms this conclusion"
   ]
  }
 ],
 "metadata": {
  "kernelspec": {
   "display_name": "Python 3",
   "language": "python",
   "name": "python3"
  },
  "language_info": {
   "codemirror_mode": {
    "name": "ipython",
    "version": 3
   },
   "file_extension": ".py",
   "mimetype": "text/x-python",
   "name": "python",
   "nbconvert_exporter": "python",
   "pygments_lexer": "ipython3",
   "version": "3.6.3"
  }
 },
 "nbformat": 4,
 "nbformat_minor": 5
}
